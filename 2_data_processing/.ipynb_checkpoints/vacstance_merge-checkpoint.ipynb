{
 "cells": [
  {
   "cell_type": "code",
   "execution_count": 9,
   "metadata": {},
   "outputs": [],
   "source": [
    "import pandas as pd\n",
    "import numpy as np"
   ]
  },
  {
   "cell_type": "code",
   "execution_count": 10,
   "metadata": {},
   "outputs": [
    {
     "ename": "FileNotFoundError",
     "evalue": "[Errno 2] No such file or directory: 'test.txt'",
     "output_type": "error",
     "traceback": [
      "\u001b[0;31m---------------------------------------------------------------------------\u001b[0m",
      "\u001b[0;31mFileNotFoundError\u001b[0m                         Traceback (most recent call last)",
      "\u001b[0;32m<ipython-input-10-8f831ac616a5>\u001b[0m in \u001b[0;36m<module>\u001b[0;34m\u001b[0m\n\u001b[0;32m----> 1\u001b[0;31m \u001b[0mquote_df\u001b[0m\u001b[0;34m=\u001b[0m\u001b[0mpd\u001b[0m\u001b[0;34m.\u001b[0m\u001b[0mread_csv\u001b[0m\u001b[0;34m(\u001b[0m\u001b[0;34m'test.txt'\u001b[0m\u001b[0;34m,\u001b[0m \u001b[0msep\u001b[0m\u001b[0;34m=\u001b[0m\u001b[0;34m'\\t'\u001b[0m\u001b[0;34m)\u001b[0m\u001b[0;34m\u001b[0m\u001b[0;34m\u001b[0m\u001b[0m\n\u001b[0m",
      "\u001b[0;32m/opt/anaconda3/lib/python3.8/site-packages/pandas/io/parsers.py\u001b[0m in \u001b[0;36mread_csv\u001b[0;34m(filepath_or_buffer, sep, delimiter, header, names, index_col, usecols, squeeze, prefix, mangle_dupe_cols, dtype, engine, converters, true_values, false_values, skipinitialspace, skiprows, skipfooter, nrows, na_values, keep_default_na, na_filter, verbose, skip_blank_lines, parse_dates, infer_datetime_format, keep_date_col, date_parser, dayfirst, cache_dates, iterator, chunksize, compression, thousands, decimal, lineterminator, quotechar, quoting, doublequote, escapechar, comment, encoding, dialect, error_bad_lines, warn_bad_lines, delim_whitespace, low_memory, memory_map, float_precision)\u001b[0m\n\u001b[1;32m    684\u001b[0m     )\n\u001b[1;32m    685\u001b[0m \u001b[0;34m\u001b[0m\u001b[0m\n\u001b[0;32m--> 686\u001b[0;31m     \u001b[0;32mreturn\u001b[0m \u001b[0m_read\u001b[0m\u001b[0;34m(\u001b[0m\u001b[0mfilepath_or_buffer\u001b[0m\u001b[0;34m,\u001b[0m \u001b[0mkwds\u001b[0m\u001b[0;34m)\u001b[0m\u001b[0;34m\u001b[0m\u001b[0;34m\u001b[0m\u001b[0m\n\u001b[0m\u001b[1;32m    687\u001b[0m \u001b[0;34m\u001b[0m\u001b[0m\n\u001b[1;32m    688\u001b[0m \u001b[0;34m\u001b[0m\u001b[0m\n",
      "\u001b[0;32m/opt/anaconda3/lib/python3.8/site-packages/pandas/io/parsers.py\u001b[0m in \u001b[0;36m_read\u001b[0;34m(filepath_or_buffer, kwds)\u001b[0m\n\u001b[1;32m    450\u001b[0m \u001b[0;34m\u001b[0m\u001b[0m\n\u001b[1;32m    451\u001b[0m     \u001b[0;31m# Create the parser.\u001b[0m\u001b[0;34m\u001b[0m\u001b[0;34m\u001b[0m\u001b[0;34m\u001b[0m\u001b[0m\n\u001b[0;32m--> 452\u001b[0;31m     \u001b[0mparser\u001b[0m \u001b[0;34m=\u001b[0m \u001b[0mTextFileReader\u001b[0m\u001b[0;34m(\u001b[0m\u001b[0mfp_or_buf\u001b[0m\u001b[0;34m,\u001b[0m \u001b[0;34m**\u001b[0m\u001b[0mkwds\u001b[0m\u001b[0;34m)\u001b[0m\u001b[0;34m\u001b[0m\u001b[0;34m\u001b[0m\u001b[0m\n\u001b[0m\u001b[1;32m    453\u001b[0m \u001b[0;34m\u001b[0m\u001b[0m\n\u001b[1;32m    454\u001b[0m     \u001b[0;32mif\u001b[0m \u001b[0mchunksize\u001b[0m \u001b[0;32mor\u001b[0m \u001b[0miterator\u001b[0m\u001b[0;34m:\u001b[0m\u001b[0;34m\u001b[0m\u001b[0;34m\u001b[0m\u001b[0m\n",
      "\u001b[0;32m/opt/anaconda3/lib/python3.8/site-packages/pandas/io/parsers.py\u001b[0m in \u001b[0;36m__init__\u001b[0;34m(self, f, engine, **kwds)\u001b[0m\n\u001b[1;32m    944\u001b[0m             \u001b[0mself\u001b[0m\u001b[0;34m.\u001b[0m\u001b[0moptions\u001b[0m\u001b[0;34m[\u001b[0m\u001b[0;34m\"has_index_names\"\u001b[0m\u001b[0;34m]\u001b[0m \u001b[0;34m=\u001b[0m \u001b[0mkwds\u001b[0m\u001b[0;34m[\u001b[0m\u001b[0;34m\"has_index_names\"\u001b[0m\u001b[0;34m]\u001b[0m\u001b[0;34m\u001b[0m\u001b[0;34m\u001b[0m\u001b[0m\n\u001b[1;32m    945\u001b[0m \u001b[0;34m\u001b[0m\u001b[0m\n\u001b[0;32m--> 946\u001b[0;31m         \u001b[0mself\u001b[0m\u001b[0;34m.\u001b[0m\u001b[0m_make_engine\u001b[0m\u001b[0;34m(\u001b[0m\u001b[0mself\u001b[0m\u001b[0;34m.\u001b[0m\u001b[0mengine\u001b[0m\u001b[0;34m)\u001b[0m\u001b[0;34m\u001b[0m\u001b[0;34m\u001b[0m\u001b[0m\n\u001b[0m\u001b[1;32m    947\u001b[0m \u001b[0;34m\u001b[0m\u001b[0m\n\u001b[1;32m    948\u001b[0m     \u001b[0;32mdef\u001b[0m \u001b[0mclose\u001b[0m\u001b[0;34m(\u001b[0m\u001b[0mself\u001b[0m\u001b[0;34m)\u001b[0m\u001b[0;34m:\u001b[0m\u001b[0;34m\u001b[0m\u001b[0;34m\u001b[0m\u001b[0m\n",
      "\u001b[0;32m/opt/anaconda3/lib/python3.8/site-packages/pandas/io/parsers.py\u001b[0m in \u001b[0;36m_make_engine\u001b[0;34m(self, engine)\u001b[0m\n\u001b[1;32m   1176\u001b[0m     \u001b[0;32mdef\u001b[0m \u001b[0m_make_engine\u001b[0m\u001b[0;34m(\u001b[0m\u001b[0mself\u001b[0m\u001b[0;34m,\u001b[0m \u001b[0mengine\u001b[0m\u001b[0;34m=\u001b[0m\u001b[0;34m\"c\"\u001b[0m\u001b[0;34m)\u001b[0m\u001b[0;34m:\u001b[0m\u001b[0;34m\u001b[0m\u001b[0;34m\u001b[0m\u001b[0m\n\u001b[1;32m   1177\u001b[0m         \u001b[0;32mif\u001b[0m \u001b[0mengine\u001b[0m \u001b[0;34m==\u001b[0m \u001b[0;34m\"c\"\u001b[0m\u001b[0;34m:\u001b[0m\u001b[0;34m\u001b[0m\u001b[0;34m\u001b[0m\u001b[0m\n\u001b[0;32m-> 1178\u001b[0;31m             \u001b[0mself\u001b[0m\u001b[0;34m.\u001b[0m\u001b[0m_engine\u001b[0m \u001b[0;34m=\u001b[0m \u001b[0mCParserWrapper\u001b[0m\u001b[0;34m(\u001b[0m\u001b[0mself\u001b[0m\u001b[0;34m.\u001b[0m\u001b[0mf\u001b[0m\u001b[0;34m,\u001b[0m \u001b[0;34m**\u001b[0m\u001b[0mself\u001b[0m\u001b[0;34m.\u001b[0m\u001b[0moptions\u001b[0m\u001b[0;34m)\u001b[0m\u001b[0;34m\u001b[0m\u001b[0;34m\u001b[0m\u001b[0m\n\u001b[0m\u001b[1;32m   1179\u001b[0m         \u001b[0;32melse\u001b[0m\u001b[0;34m:\u001b[0m\u001b[0;34m\u001b[0m\u001b[0;34m\u001b[0m\u001b[0m\n\u001b[1;32m   1180\u001b[0m             \u001b[0;32mif\u001b[0m \u001b[0mengine\u001b[0m \u001b[0;34m==\u001b[0m \u001b[0;34m\"python\"\u001b[0m\u001b[0;34m:\u001b[0m\u001b[0;34m\u001b[0m\u001b[0;34m\u001b[0m\u001b[0m\n",
      "\u001b[0;32m/opt/anaconda3/lib/python3.8/site-packages/pandas/io/parsers.py\u001b[0m in \u001b[0;36m__init__\u001b[0;34m(self, src, **kwds)\u001b[0m\n\u001b[1;32m   2006\u001b[0m         \u001b[0mkwds\u001b[0m\u001b[0;34m[\u001b[0m\u001b[0;34m\"usecols\"\u001b[0m\u001b[0;34m]\u001b[0m \u001b[0;34m=\u001b[0m \u001b[0mself\u001b[0m\u001b[0;34m.\u001b[0m\u001b[0musecols\u001b[0m\u001b[0;34m\u001b[0m\u001b[0;34m\u001b[0m\u001b[0m\n\u001b[1;32m   2007\u001b[0m \u001b[0;34m\u001b[0m\u001b[0m\n\u001b[0;32m-> 2008\u001b[0;31m         \u001b[0mself\u001b[0m\u001b[0;34m.\u001b[0m\u001b[0m_reader\u001b[0m \u001b[0;34m=\u001b[0m \u001b[0mparsers\u001b[0m\u001b[0;34m.\u001b[0m\u001b[0mTextReader\u001b[0m\u001b[0;34m(\u001b[0m\u001b[0msrc\u001b[0m\u001b[0;34m,\u001b[0m \u001b[0;34m**\u001b[0m\u001b[0mkwds\u001b[0m\u001b[0;34m)\u001b[0m\u001b[0;34m\u001b[0m\u001b[0;34m\u001b[0m\u001b[0m\n\u001b[0m\u001b[1;32m   2009\u001b[0m         \u001b[0mself\u001b[0m\u001b[0;34m.\u001b[0m\u001b[0munnamed_cols\u001b[0m \u001b[0;34m=\u001b[0m \u001b[0mself\u001b[0m\u001b[0;34m.\u001b[0m\u001b[0m_reader\u001b[0m\u001b[0;34m.\u001b[0m\u001b[0munnamed_cols\u001b[0m\u001b[0;34m\u001b[0m\u001b[0;34m\u001b[0m\u001b[0m\n\u001b[1;32m   2010\u001b[0m \u001b[0;34m\u001b[0m\u001b[0m\n",
      "\u001b[0;32mpandas/_libs/parsers.pyx\u001b[0m in \u001b[0;36mpandas._libs.parsers.TextReader.__cinit__\u001b[0;34m()\u001b[0m\n",
      "\u001b[0;32mpandas/_libs/parsers.pyx\u001b[0m in \u001b[0;36mpandas._libs.parsers.TextReader._setup_parser_source\u001b[0;34m()\u001b[0m\n",
      "\u001b[0;31mFileNotFoundError\u001b[0m: [Errno 2] No such file or directory: 'test.txt'"
     ]
    }
   ],
   "source": [
    "quote_df=pd.read_csv('test.txt', sep='\\t')"
   ]
  },
  {
   "cell_type": "code",
   "execution_count": 3,
   "metadata": {},
   "outputs": [
    {
     "ename": "NameError",
     "evalue": "name 'quote_df' is not defined",
     "output_type": "error",
     "traceback": [
      "\u001b[0;31m---------------------------------------------------------------------------\u001b[0m",
      "\u001b[0;31mNameError\u001b[0m                                 Traceback (most recent call last)",
      "\u001b[0;32m<ipython-input-3-c67c02cd389d>\u001b[0m in \u001b[0;36m<module>\u001b[0;34m\u001b[0m\n\u001b[0;32m----> 1\u001b[0;31m \u001b[0mquote_df\u001b[0m\u001b[0;34m.\u001b[0m\u001b[0mshape\u001b[0m\u001b[0;34m\u001b[0m\u001b[0;34m\u001b[0m\u001b[0m\n\u001b[0m",
      "\u001b[0;31mNameError\u001b[0m: name 'quote_df' is not defined"
     ]
    }
   ],
   "source": [
    "quote_df.shape"
   ]
  },
  {
   "cell_type": "code",
   "execution_count": 4,
   "metadata": {},
   "outputs": [
    {
     "ename": "NameError",
     "evalue": "name 'quote_df' is not defined",
     "output_type": "error",
     "traceback": [
      "\u001b[0;31m---------------------------------------------------------------------------\u001b[0m",
      "\u001b[0;31mNameError\u001b[0m                                 Traceback (most recent call last)",
      "\u001b[0;32m<ipython-input-4-3b8b1d844d70>\u001b[0m in \u001b[0;36m<module>\u001b[0;34m\u001b[0m\n\u001b[0;32m----> 1\u001b[0;31m \u001b[0mquote_df\u001b[0m\u001b[0;34m.\u001b[0m\u001b[0mcolumns\u001b[0m\u001b[0;34m\u001b[0m\u001b[0;34m\u001b[0m\u001b[0m\n\u001b[0m",
      "\u001b[0;31mNameError\u001b[0m: name 'quote_df' is not defined"
     ]
    }
   ],
   "source": [
    "quote_df.columns"
   ]
  },
  {
   "cell_type": "code",
   "execution_count": 5,
   "metadata": {},
   "outputs": [
    {
     "ename": "NameError",
     "evalue": "name 'quote_df' is not defined",
     "output_type": "error",
     "traceback": [
      "\u001b[0;31m---------------------------------------------------------------------------\u001b[0m",
      "\u001b[0;31mNameError\u001b[0m                                 Traceback (most recent call last)",
      "\u001b[0;32m<ipython-input-5-9266b619a63f>\u001b[0m in \u001b[0;36m<module>\u001b[0;34m\u001b[0m\n\u001b[0;32m----> 1\u001b[0;31m \u001b[0mquote_df\u001b[0m\u001b[0;34m.\u001b[0m\u001b[0mhead\u001b[0m\u001b[0;34m(\u001b[0m\u001b[0;36m100\u001b[0m\u001b[0;34m)\u001b[0m\u001b[0;34m\u001b[0m\u001b[0;34m\u001b[0m\u001b[0m\n\u001b[0m",
      "\u001b[0;31mNameError\u001b[0m: name 'quote_df' is not defined"
     ]
    }
   ],
   "source": [
    "quote_df.head(100)"
   ]
  },
  {
   "cell_type": "code",
   "execution_count": 6,
   "metadata": {},
   "outputs": [
    {
     "ename": "FileNotFoundError",
     "evalue": "[Errno 2] No such file or directory: 'filtered_dedup_combined_df_2020_1_1_to_2021_5_1.pkl'",
     "output_type": "error",
     "traceback": [
      "\u001b[0;31m---------------------------------------------------------------------------\u001b[0m",
      "\u001b[0;31mFileNotFoundError\u001b[0m                         Traceback (most recent call last)",
      "\u001b[0;32m<ipython-input-6-8112ca62fce7>\u001b[0m in \u001b[0;36m<module>\u001b[0;34m\u001b[0m\n\u001b[0;32m----> 1\u001b[0;31m \u001b[0marticle_df\u001b[0m\u001b[0;34m=\u001b[0m\u001b[0mpd\u001b[0m\u001b[0;34m.\u001b[0m\u001b[0mread_pickle\u001b[0m\u001b[0;34m(\u001b[0m\u001b[0;34m\"filtered_dedup_combined_df_2020_1_1_to_2021_5_1.pkl\"\u001b[0m\u001b[0;34m)\u001b[0m\u001b[0;34m\u001b[0m\u001b[0;34m\u001b[0m\u001b[0m\n\u001b[0m",
      "\u001b[0;32m/opt/anaconda3/lib/python3.8/site-packages/pandas/io/pickle.py\u001b[0m in \u001b[0;36mread_pickle\u001b[0;34m(filepath_or_buffer, compression)\u001b[0m\n\u001b[1;32m    167\u001b[0m     \u001b[0;32mif\u001b[0m \u001b[0;32mnot\u001b[0m \u001b[0misinstance\u001b[0m\u001b[0;34m(\u001b[0m\u001b[0mfp_or_buf\u001b[0m\u001b[0;34m,\u001b[0m \u001b[0mstr\u001b[0m\u001b[0;34m)\u001b[0m \u001b[0;32mand\u001b[0m \u001b[0mcompression\u001b[0m \u001b[0;34m==\u001b[0m \u001b[0;34m\"infer\"\u001b[0m\u001b[0;34m:\u001b[0m\u001b[0;34m\u001b[0m\u001b[0;34m\u001b[0m\u001b[0m\n\u001b[1;32m    168\u001b[0m         \u001b[0mcompression\u001b[0m \u001b[0;34m=\u001b[0m \u001b[0;32mNone\u001b[0m\u001b[0;34m\u001b[0m\u001b[0;34m\u001b[0m\u001b[0m\n\u001b[0;32m--> 169\u001b[0;31m     \u001b[0mf\u001b[0m\u001b[0;34m,\u001b[0m \u001b[0mfh\u001b[0m \u001b[0;34m=\u001b[0m \u001b[0mget_handle\u001b[0m\u001b[0;34m(\u001b[0m\u001b[0mfp_or_buf\u001b[0m\u001b[0;34m,\u001b[0m \u001b[0;34m\"rb\"\u001b[0m\u001b[0;34m,\u001b[0m \u001b[0mcompression\u001b[0m\u001b[0;34m=\u001b[0m\u001b[0mcompression\u001b[0m\u001b[0;34m,\u001b[0m \u001b[0mis_text\u001b[0m\u001b[0;34m=\u001b[0m\u001b[0;32mFalse\u001b[0m\u001b[0;34m)\u001b[0m\u001b[0;34m\u001b[0m\u001b[0;34m\u001b[0m\u001b[0m\n\u001b[0m\u001b[1;32m    170\u001b[0m \u001b[0;34m\u001b[0m\u001b[0m\n\u001b[1;32m    171\u001b[0m     \u001b[0;31m# 1) try standard library Pickle\u001b[0m\u001b[0;34m\u001b[0m\u001b[0;34m\u001b[0m\u001b[0;34m\u001b[0m\u001b[0m\n",
      "\u001b[0;32m/opt/anaconda3/lib/python3.8/site-packages/pandas/io/common.py\u001b[0m in \u001b[0;36mget_handle\u001b[0;34m(path_or_buf, mode, encoding, compression, memory_map, is_text, errors)\u001b[0m\n\u001b[1;32m    497\u001b[0m         \u001b[0;32melse\u001b[0m\u001b[0;34m:\u001b[0m\u001b[0;34m\u001b[0m\u001b[0;34m\u001b[0m\u001b[0m\n\u001b[1;32m    498\u001b[0m             \u001b[0;31m# Binary mode\u001b[0m\u001b[0;34m\u001b[0m\u001b[0;34m\u001b[0m\u001b[0;34m\u001b[0m\u001b[0m\n\u001b[0;32m--> 499\u001b[0;31m             \u001b[0mf\u001b[0m \u001b[0;34m=\u001b[0m \u001b[0mopen\u001b[0m\u001b[0;34m(\u001b[0m\u001b[0mpath_or_buf\u001b[0m\u001b[0;34m,\u001b[0m \u001b[0mmode\u001b[0m\u001b[0;34m)\u001b[0m\u001b[0;34m\u001b[0m\u001b[0;34m\u001b[0m\u001b[0m\n\u001b[0m\u001b[1;32m    500\u001b[0m         \u001b[0mhandles\u001b[0m\u001b[0;34m.\u001b[0m\u001b[0mappend\u001b[0m\u001b[0;34m(\u001b[0m\u001b[0mf\u001b[0m\u001b[0;34m)\u001b[0m\u001b[0;34m\u001b[0m\u001b[0;34m\u001b[0m\u001b[0m\n\u001b[1;32m    501\u001b[0m \u001b[0;34m\u001b[0m\u001b[0m\n",
      "\u001b[0;31mFileNotFoundError\u001b[0m: [Errno 2] No such file or directory: 'filtered_dedup_combined_df_2020_1_1_to_2021_5_1.pkl'"
     ]
    }
   ],
   "source": [
    "article_df=pd.read_pickle(\"filtered_dedup_combined_df_2020_1_1_to_2021_5_1.pkl\")"
   ]
  },
  {
   "cell_type": "code",
   "execution_count": 7,
   "metadata": {},
   "outputs": [
    {
     "ename": "NameError",
     "evalue": "name 'article_df' is not defined",
     "output_type": "error",
     "traceback": [
      "\u001b[0;31m---------------------------------------------------------------------------\u001b[0m",
      "\u001b[0;31mNameError\u001b[0m                                 Traceback (most recent call last)",
      "\u001b[0;32m<ipython-input-7-17708a911d6f>\u001b[0m in \u001b[0;36m<module>\u001b[0;34m\u001b[0m\n\u001b[0;32m----> 1\u001b[0;31m \u001b[0marticle_df\u001b[0m\u001b[0;34m.\u001b[0m\u001b[0mshape\u001b[0m\u001b[0;34m\u001b[0m\u001b[0;34m\u001b[0m\u001b[0m\n\u001b[0m",
      "\u001b[0;31mNameError\u001b[0m: name 'article_df' is not defined"
     ]
    }
   ],
   "source": [
    "article_df.shape"
   ]
  },
  {
   "cell_type": "code",
   "execution_count": 8,
   "metadata": {},
   "outputs": [
    {
     "ename": "NameError",
     "evalue": "name 'article_df' is not defined",
     "output_type": "error",
     "traceback": [
      "\u001b[0;31m---------------------------------------------------------------------------\u001b[0m",
      "\u001b[0;31mNameError\u001b[0m                                 Traceback (most recent call last)",
      "\u001b[0;32m<ipython-input-8-d785c0c6791d>\u001b[0m in \u001b[0;36m<module>\u001b[0;34m\u001b[0m\n\u001b[0;32m----> 1\u001b[0;31m \u001b[0marticle_df\u001b[0m\u001b[0;34m.\u001b[0m\u001b[0mhead\u001b[0m\u001b[0;34m(\u001b[0m\u001b[0;34m)\u001b[0m\u001b[0;34m\u001b[0m\u001b[0;34m\u001b[0m\u001b[0m\n\u001b[0m",
      "\u001b[0;31mNameError\u001b[0m: name 'article_df' is not defined"
     ]
    }
   ],
   "source": [
    "article_df.head()"
   ]
  },
  {
   "cell_type": "code",
   "execution_count": 33,
   "metadata": {},
   "outputs": [],
   "source": [
    "merged_df =  pd.merge(left=quote_df, right=article_df, left_on='guid', right_on='guid')"
   ]
  },
  {
   "cell_type": "code",
   "execution_count": 34,
   "metadata": {},
   "outputs": [
    {
     "data": {
      "text/plain": [
       "(974, 15)"
      ]
     },
     "execution_count": 34,
     "metadata": {},
     "output_type": "execute_result"
    }
   ],
   "source": [
    "merged_df.shape"
   ]
  },
  {
   "cell_type": "code",
   "execution_count": 35,
   "metadata": {},
   "outputs": [
    {
     "data": {
      "text/html": [
       "<div>\n",
       "<style scoped>\n",
       "    .dataframe tbody tr th:only-of-type {\n",
       "        vertical-align: middle;\n",
       "    }\n",
       "\n",
       "    .dataframe tbody tr th {\n",
       "        vertical-align: top;\n",
       "    }\n",
       "\n",
       "    .dataframe thead th {\n",
       "        text-align: right;\n",
       "    }\n",
       "</style>\n",
       "<table border=\"1\" class=\"dataframe\">\n",
       "  <thead>\n",
       "    <tr style=\"text-align: right;\">\n",
       "      <th></th>\n",
       "      <th>guid</th>\n",
       "      <th>sent_no</th>\n",
       "      <th>quote_no</th>\n",
       "      <th>clean_quote</th>\n",
       "      <th>clean_quote_coref</th>\n",
       "      <th>Unnamed: 5</th>\n",
       "      <th>annotator_1</th>\n",
       "      <th>url</th>\n",
       "      <th>title</th>\n",
       "      <th>date</th>\n",
       "      <th>domain</th>\n",
       "      <th>stance</th>\n",
       "      <th>topic</th>\n",
       "      <th>is_AP</th>\n",
       "      <th>reg_title</th>\n",
       "    </tr>\n",
       "  </thead>\n",
       "  <tbody>\n",
       "    <tr>\n",
       "      <th>0</th>\n",
       "      <td>url_no_3</td>\n",
       "      <td>47</td>\n",
       "      <td>0</td>\n",
       "      <td>Its COVID19 vaccine is 90 percent effective.</td>\n",
       "      <td>Pfizer COVID19 vaccine is 90 percent effective.</td>\n",
       "      <td>NaN</td>\n",
       "      <td>Agree</td>\n",
       "      <td>salon.com/2020/11/19/1-in-10-americans-go-hung...</td>\n",
       "      <td>1 in 10 americans go hungry as trump and mccon...</td>\n",
       "      <td>2020-11-19 06:44:01</td>\n",
       "      <td>salon</td>\n",
       "      <td>pro</td>\n",
       "      <td>cc</td>\n",
       "      <td>False</td>\n",
       "      <td>1 in 10 americans go hungry as trump and mccon...</td>\n",
       "    </tr>\n",
       "    <tr>\n",
       "      <th>1</th>\n",
       "      <td>url_no_3</td>\n",
       "      <td>47</td>\n",
       "      <td>1</td>\n",
       "      <td>Senate Republicans are not likely to embrace a...</td>\n",
       "      <td>Senate Republicans are not likely to embrace a...</td>\n",
       "      <td>NaN</td>\n",
       "      <td>Agree</td>\n",
       "      <td>salon.com/2020/11/19/1-in-10-americans-go-hung...</td>\n",
       "      <td>1 in 10 americans go hungry as trump and mccon...</td>\n",
       "      <td>2020-11-19 06:44:01</td>\n",
       "      <td>salon</td>\n",
       "      <td>pro</td>\n",
       "      <td>cc</td>\n",
       "      <td>False</td>\n",
       "      <td>1 in 10 americans go hungry as trump and mccon...</td>\n",
       "    </tr>\n",
       "    <tr>\n",
       "      <th>2</th>\n",
       "      <td>url_no_3</td>\n",
       "      <td>49</td>\n",
       "      <td>0</td>\n",
       "      <td>Pfizer 's preliminary data does not show wheth...</td>\n",
       "      <td>Pfizer 's preliminary data does not show wheth...</td>\n",
       "      <td>NaN</td>\n",
       "      <td>Neutral</td>\n",
       "      <td>salon.com/2020/11/19/1-in-10-americans-go-hung...</td>\n",
       "      <td>1 in 10 americans go hungry as trump and mccon...</td>\n",
       "      <td>2020-11-19 06:44:01</td>\n",
       "      <td>salon</td>\n",
       "      <td>pro</td>\n",
       "      <td>cc</td>\n",
       "      <td>False</td>\n",
       "      <td>1 in 10 americans go hungry as trump and mccon...</td>\n",
       "    </tr>\n",
       "    <tr>\n",
       "      <th>3</th>\n",
       "      <td>url_no_3</td>\n",
       "      <td>49</td>\n",
       "      <td>1</td>\n",
       "      <td>Whether the vaccine is safe or whether it will...</td>\n",
       "      <td>Whether the vaccine is safe or whether its COV...</td>\n",
       "      <td>NaN</td>\n",
       "      <td>Neutral</td>\n",
       "      <td>salon.com/2020/11/19/1-in-10-americans-go-hung...</td>\n",
       "      <td>1 in 10 americans go hungry as trump and mccon...</td>\n",
       "      <td>2020-11-19 06:44:01</td>\n",
       "      <td>salon</td>\n",
       "      <td>pro</td>\n",
       "      <td>cc</td>\n",
       "      <td>False</td>\n",
       "      <td>1 in 10 americans go hungry as trump and mccon...</td>\n",
       "    </tr>\n",
       "    <tr>\n",
       "      <th>4</th>\n",
       "      <td>url_no_5</td>\n",
       "      <td>44</td>\n",
       "      <td>1</td>\n",
       "      <td>One in three parents does n’t intend to have t...</td>\n",
       "      <td>One in three parents does n’t intend to have r...</td>\n",
       "      <td>NaN</td>\n",
       "      <td>Neutral</td>\n",
       "      <td>nypost.com/2020/09/29/1-in-3-parents-dont-inte...</td>\n",
       "      <td>1 in 3 parents dont intend to have their child...</td>\n",
       "      <td>2020-09-29 10:26:31</td>\n",
       "      <td>new_york_post</td>\n",
       "      <td>anti</td>\n",
       "      <td>cc</td>\n",
       "      <td>False</td>\n",
       "      <td>1 in 3 parents dont intend to have their child...</td>\n",
       "    </tr>\n",
       "  </tbody>\n",
       "</table>\n",
       "</div>"
      ],
      "text/plain": [
       "       guid  sent_no  quote_no  \\\n",
       "0  url_no_3       47         0   \n",
       "1  url_no_3       47         1   \n",
       "2  url_no_3       49         0   \n",
       "3  url_no_3       49         1   \n",
       "4  url_no_5       44         1   \n",
       "\n",
       "                                         clean_quote  \\\n",
       "0       Its COVID19 vaccine is 90 percent effective.   \n",
       "1  Senate Republicans are not likely to embrace a...   \n",
       "2  Pfizer 's preliminary data does not show wheth...   \n",
       "3  Whether the vaccine is safe or whether it will...   \n",
       "4  One in three parents does n’t intend to have t...   \n",
       "\n",
       "                                   clean_quote_coref  Unnamed: 5 annotator_1  \\\n",
       "0    Pfizer COVID19 vaccine is 90 percent effective.         NaN       Agree   \n",
       "1  Senate Republicans are not likely to embrace a...         NaN       Agree   \n",
       "2  Pfizer 's preliminary data does not show wheth...         NaN     Neutral   \n",
       "3  Whether the vaccine is safe or whether its COV...         NaN     Neutral   \n",
       "4  One in three parents does n’t intend to have r...         NaN     Neutral   \n",
       "\n",
       "                                                 url  \\\n",
       "0  salon.com/2020/11/19/1-in-10-americans-go-hung...   \n",
       "1  salon.com/2020/11/19/1-in-10-americans-go-hung...   \n",
       "2  salon.com/2020/11/19/1-in-10-americans-go-hung...   \n",
       "3  salon.com/2020/11/19/1-in-10-americans-go-hung...   \n",
       "4  nypost.com/2020/09/29/1-in-3-parents-dont-inte...   \n",
       "\n",
       "                                               title                date  \\\n",
       "0  1 in 10 americans go hungry as trump and mccon... 2020-11-19 06:44:01   \n",
       "1  1 in 10 americans go hungry as trump and mccon... 2020-11-19 06:44:01   \n",
       "2  1 in 10 americans go hungry as trump and mccon... 2020-11-19 06:44:01   \n",
       "3  1 in 10 americans go hungry as trump and mccon... 2020-11-19 06:44:01   \n",
       "4  1 in 3 parents dont intend to have their child... 2020-09-29 10:26:31   \n",
       "\n",
       "          domain stance topic  is_AP  \\\n",
       "0          salon    pro    cc  False   \n",
       "1          salon    pro    cc  False   \n",
       "2          salon    pro    cc  False   \n",
       "3          salon    pro    cc  False   \n",
       "4  new_york_post   anti    cc  False   \n",
       "\n",
       "                                           reg_title  \n",
       "0  1 in 10 americans go hungry as trump and mccon...  \n",
       "1  1 in 10 americans go hungry as trump and mccon...  \n",
       "2  1 in 10 americans go hungry as trump and mccon...  \n",
       "3  1 in 10 americans go hungry as trump and mccon...  \n",
       "4  1 in 3 parents dont intend to have their child...  "
      ]
     },
     "execution_count": 35,
     "metadata": {},
     "output_type": "execute_result"
    }
   ],
   "source": [
    "merged_df.head()"
   ]
  },
  {
   "cell_type": "code",
   "execution_count": 39,
   "metadata": {},
   "outputs": [
    {
     "data": {
      "text/plain": [
       "pro        655\n",
       "anti       165\n",
       "between    154\n",
       "Name: stance, dtype: int64"
      ]
     },
     "execution_count": 39,
     "metadata": {},
     "output_type": "execute_result"
    }
   ],
   "source": [
    "merged_df[\"stance\"].value_counts()"
   ]
  },
  {
   "cell_type": "code",
   "execution_count": 40,
   "metadata": {},
   "outputs": [],
   "source": [
    "merged_df[\"leaning\"]= np.where(merged_df[\"stance\"] == \"pro\", \"left\",\"right\")"
   ]
  },
  {
   "cell_type": "code",
   "execution_count": 41,
   "metadata": {},
   "outputs": [
    {
     "data": {
      "text/html": [
       "<div>\n",
       "<style scoped>\n",
       "    .dataframe tbody tr th:only-of-type {\n",
       "        vertical-align: middle;\n",
       "    }\n",
       "\n",
       "    .dataframe tbody tr th {\n",
       "        vertical-align: top;\n",
       "    }\n",
       "\n",
       "    .dataframe thead th {\n",
       "        text-align: right;\n",
       "    }\n",
       "</style>\n",
       "<table border=\"1\" class=\"dataframe\">\n",
       "  <thead>\n",
       "    <tr style=\"text-align: right;\">\n",
       "      <th></th>\n",
       "      <th>guid</th>\n",
       "      <th>sent_no</th>\n",
       "      <th>quote_no</th>\n",
       "      <th>clean_quote</th>\n",
       "      <th>clean_quote_coref</th>\n",
       "      <th>Unnamed: 5</th>\n",
       "      <th>annotator_1</th>\n",
       "      <th>url</th>\n",
       "      <th>title</th>\n",
       "      <th>date</th>\n",
       "      <th>domain</th>\n",
       "      <th>stance</th>\n",
       "      <th>topic</th>\n",
       "      <th>is_AP</th>\n",
       "      <th>reg_title</th>\n",
       "      <th>leaning</th>\n",
       "    </tr>\n",
       "  </thead>\n",
       "  <tbody>\n",
       "    <tr>\n",
       "      <th>0</th>\n",
       "      <td>url_no_3</td>\n",
       "      <td>47</td>\n",
       "      <td>0</td>\n",
       "      <td>Its COVID19 vaccine is 90 percent effective.</td>\n",
       "      <td>Pfizer COVID19 vaccine is 90 percent effective.</td>\n",
       "      <td>NaN</td>\n",
       "      <td>Agree</td>\n",
       "      <td>salon.com/2020/11/19/1-in-10-americans-go-hung...</td>\n",
       "      <td>1 in 10 americans go hungry as trump and mccon...</td>\n",
       "      <td>2020-11-19 06:44:01</td>\n",
       "      <td>salon</td>\n",
       "      <td>pro</td>\n",
       "      <td>cc</td>\n",
       "      <td>False</td>\n",
       "      <td>1 in 10 americans go hungry as trump and mccon...</td>\n",
       "      <td>left</td>\n",
       "    </tr>\n",
       "    <tr>\n",
       "      <th>1</th>\n",
       "      <td>url_no_3</td>\n",
       "      <td>47</td>\n",
       "      <td>1</td>\n",
       "      <td>Senate Republicans are not likely to embrace a...</td>\n",
       "      <td>Senate Republicans are not likely to embrace a...</td>\n",
       "      <td>NaN</td>\n",
       "      <td>Agree</td>\n",
       "      <td>salon.com/2020/11/19/1-in-10-americans-go-hung...</td>\n",
       "      <td>1 in 10 americans go hungry as trump and mccon...</td>\n",
       "      <td>2020-11-19 06:44:01</td>\n",
       "      <td>salon</td>\n",
       "      <td>pro</td>\n",
       "      <td>cc</td>\n",
       "      <td>False</td>\n",
       "      <td>1 in 10 americans go hungry as trump and mccon...</td>\n",
       "      <td>left</td>\n",
       "    </tr>\n",
       "    <tr>\n",
       "      <th>2</th>\n",
       "      <td>url_no_3</td>\n",
       "      <td>49</td>\n",
       "      <td>0</td>\n",
       "      <td>Pfizer 's preliminary data does not show wheth...</td>\n",
       "      <td>Pfizer 's preliminary data does not show wheth...</td>\n",
       "      <td>NaN</td>\n",
       "      <td>Neutral</td>\n",
       "      <td>salon.com/2020/11/19/1-in-10-americans-go-hung...</td>\n",
       "      <td>1 in 10 americans go hungry as trump and mccon...</td>\n",
       "      <td>2020-11-19 06:44:01</td>\n",
       "      <td>salon</td>\n",
       "      <td>pro</td>\n",
       "      <td>cc</td>\n",
       "      <td>False</td>\n",
       "      <td>1 in 10 americans go hungry as trump and mccon...</td>\n",
       "      <td>left</td>\n",
       "    </tr>\n",
       "    <tr>\n",
       "      <th>3</th>\n",
       "      <td>url_no_3</td>\n",
       "      <td>49</td>\n",
       "      <td>1</td>\n",
       "      <td>Whether the vaccine is safe or whether it will...</td>\n",
       "      <td>Whether the vaccine is safe or whether its COV...</td>\n",
       "      <td>NaN</td>\n",
       "      <td>Neutral</td>\n",
       "      <td>salon.com/2020/11/19/1-in-10-americans-go-hung...</td>\n",
       "      <td>1 in 10 americans go hungry as trump and mccon...</td>\n",
       "      <td>2020-11-19 06:44:01</td>\n",
       "      <td>salon</td>\n",
       "      <td>pro</td>\n",
       "      <td>cc</td>\n",
       "      <td>False</td>\n",
       "      <td>1 in 10 americans go hungry as trump and mccon...</td>\n",
       "      <td>left</td>\n",
       "    </tr>\n",
       "    <tr>\n",
       "      <th>4</th>\n",
       "      <td>url_no_5</td>\n",
       "      <td>44</td>\n",
       "      <td>1</td>\n",
       "      <td>One in three parents does n’t intend to have t...</td>\n",
       "      <td>One in three parents does n’t intend to have r...</td>\n",
       "      <td>NaN</td>\n",
       "      <td>Neutral</td>\n",
       "      <td>nypost.com/2020/09/29/1-in-3-parents-dont-inte...</td>\n",
       "      <td>1 in 3 parents dont intend to have their child...</td>\n",
       "      <td>2020-09-29 10:26:31</td>\n",
       "      <td>new_york_post</td>\n",
       "      <td>anti</td>\n",
       "      <td>cc</td>\n",
       "      <td>False</td>\n",
       "      <td>1 in 3 parents dont intend to have their child...</td>\n",
       "      <td>right</td>\n",
       "    </tr>\n",
       "    <tr>\n",
       "      <th>5</th>\n",
       "      <td>url_no_5</td>\n",
       "      <td>58</td>\n",
       "      <td>0</td>\n",
       "      <td>If a second wave of the coronavirus coincides ...</td>\n",
       "      <td>If a second wave of the coronavirus coincides ...</td>\n",
       "      <td>NaN</td>\n",
       "      <td>Neutral</td>\n",
       "      <td>nypost.com/2020/09/29/1-in-3-parents-dont-inte...</td>\n",
       "      <td>1 in 3 parents dont intend to have their child...</td>\n",
       "      <td>2020-09-29 10:26:31</td>\n",
       "      <td>new_york_post</td>\n",
       "      <td>anti</td>\n",
       "      <td>cc</td>\n",
       "      <td>False</td>\n",
       "      <td>1 in 3 parents dont intend to have their child...</td>\n",
       "      <td>right</td>\n",
       "    </tr>\n",
       "    <tr>\n",
       "      <th>6</th>\n",
       "      <td>url_no_5</td>\n",
       "      <td>59</td>\n",
       "      <td>0</td>\n",
       "      <td>America needs to have the tools in place to re...</td>\n",
       "      <td>America needs to have the tools in place to re...</td>\n",
       "      <td>NaN</td>\n",
       "      <td>Neutral</td>\n",
       "      <td>nypost.com/2020/09/29/1-in-3-parents-dont-inte...</td>\n",
       "      <td>1 in 3 parents dont intend to have their child...</td>\n",
       "      <td>2020-09-29 10:26:31</td>\n",
       "      <td>new_york_post</td>\n",
       "      <td>anti</td>\n",
       "      <td>cc</td>\n",
       "      <td>False</td>\n",
       "      <td>1 in 3 parents dont intend to have their child...</td>\n",
       "      <td>right</td>\n",
       "    </tr>\n",
       "    <tr>\n",
       "      <th>7</th>\n",
       "      <td>url_no_5</td>\n",
       "      <td>61</td>\n",
       "      <td>0</td>\n",
       "      <td>It will be hard to immediately distinguish whe...</td>\n",
       "      <td>It will be hard to immediately distinguish whe...</td>\n",
       "      <td>NaN</td>\n",
       "      <td>Neutral</td>\n",
       "      <td>nypost.com/2020/09/29/1-in-3-parents-dont-inte...</td>\n",
       "      <td>1 in 3 parents dont intend to have their child...</td>\n",
       "      <td>2020-09-29 10:26:31</td>\n",
       "      <td>new_york_post</td>\n",
       "      <td>anti</td>\n",
       "      <td>cc</td>\n",
       "      <td>False</td>\n",
       "      <td>1 in 3 parents dont intend to have their child...</td>\n",
       "      <td>right</td>\n",
       "    </tr>\n",
       "    <tr>\n",
       "      <th>8</th>\n",
       "      <td>url_no_5</td>\n",
       "      <td>61</td>\n",
       "      <td>1</td>\n",
       "      <td>Whether somebody has the flu or COVID19.</td>\n",
       "      <td>Whether somebody has the flu or COVID19.</td>\n",
       "      <td>NaN</td>\n",
       "      <td>Neutral</td>\n",
       "      <td>nypost.com/2020/09/29/1-in-3-parents-dont-inte...</td>\n",
       "      <td>1 in 3 parents dont intend to have their child...</td>\n",
       "      <td>2020-09-29 10:26:31</td>\n",
       "      <td>new_york_post</td>\n",
       "      <td>anti</td>\n",
       "      <td>cc</td>\n",
       "      <td>False</td>\n",
       "      <td>1 in 3 parents dont intend to have their child...</td>\n",
       "      <td>right</td>\n",
       "    </tr>\n",
       "    <tr>\n",
       "      <th>9</th>\n",
       "      <td>url_no_6</td>\n",
       "      <td>84</td>\n",
       "      <td>1</td>\n",
       "      <td>Their child is afraid of needles or does not w...</td>\n",
       "      <td>Their child child is afraid of needles or does...</td>\n",
       "      <td>NaN</td>\n",
       "      <td>Neutral</td>\n",
       "      <td>chron.com/news/nation-world/nation/article/1-i...</td>\n",
       "      <td>1 in 3 parents say they wont vaccinate their c...</td>\n",
       "      <td>2020-09-28 18:32:48</td>\n",
       "      <td>houstonchronicle</td>\n",
       "      <td>pro</td>\n",
       "      <td>cc</td>\n",
       "      <td>False</td>\n",
       "      <td>1 in 3 parents say they wont vaccinate their c...</td>\n",
       "      <td>left</td>\n",
       "    </tr>\n",
       "  </tbody>\n",
       "</table>\n",
       "</div>"
      ],
      "text/plain": [
       "       guid  sent_no  quote_no  \\\n",
       "0  url_no_3       47         0   \n",
       "1  url_no_3       47         1   \n",
       "2  url_no_3       49         0   \n",
       "3  url_no_3       49         1   \n",
       "4  url_no_5       44         1   \n",
       "5  url_no_5       58         0   \n",
       "6  url_no_5       59         0   \n",
       "7  url_no_5       61         0   \n",
       "8  url_no_5       61         1   \n",
       "9  url_no_6       84         1   \n",
       "\n",
       "                                         clean_quote  \\\n",
       "0       Its COVID19 vaccine is 90 percent effective.   \n",
       "1  Senate Republicans are not likely to embrace a...   \n",
       "2  Pfizer 's preliminary data does not show wheth...   \n",
       "3  Whether the vaccine is safe or whether it will...   \n",
       "4  One in three parents does n’t intend to have t...   \n",
       "5  If a second wave of the coronavirus coincides ...   \n",
       "6  America needs to have the tools in place to re...   \n",
       "7  It will be hard to immediately distinguish whe...   \n",
       "8           Whether somebody has the flu or COVID19.   \n",
       "9  Their child is afraid of needles or does not w...   \n",
       "\n",
       "                                   clean_quote_coref  Unnamed: 5 annotator_1  \\\n",
       "0    Pfizer COVID19 vaccine is 90 percent effective.         NaN       Agree   \n",
       "1  Senate Republicans are not likely to embrace a...         NaN       Agree   \n",
       "2  Pfizer 's preliminary data does not show wheth...         NaN     Neutral   \n",
       "3  Whether the vaccine is safe or whether its COV...         NaN     Neutral   \n",
       "4  One in three parents does n’t intend to have r...         NaN     Neutral   \n",
       "5  If a second wave of the coronavirus coincides ...         NaN     Neutral   \n",
       "6  America needs to have the tools in place to re...         NaN     Neutral   \n",
       "7  It will be hard to immediately distinguish whe...         NaN     Neutral   \n",
       "8           Whether somebody has the flu or COVID19.         NaN     Neutral   \n",
       "9  Their child child is afraid of needles or does...         NaN     Neutral   \n",
       "\n",
       "                                                 url  \\\n",
       "0  salon.com/2020/11/19/1-in-10-americans-go-hung...   \n",
       "1  salon.com/2020/11/19/1-in-10-americans-go-hung...   \n",
       "2  salon.com/2020/11/19/1-in-10-americans-go-hung...   \n",
       "3  salon.com/2020/11/19/1-in-10-americans-go-hung...   \n",
       "4  nypost.com/2020/09/29/1-in-3-parents-dont-inte...   \n",
       "5  nypost.com/2020/09/29/1-in-3-parents-dont-inte...   \n",
       "6  nypost.com/2020/09/29/1-in-3-parents-dont-inte...   \n",
       "7  nypost.com/2020/09/29/1-in-3-parents-dont-inte...   \n",
       "8  nypost.com/2020/09/29/1-in-3-parents-dont-inte...   \n",
       "9  chron.com/news/nation-world/nation/article/1-i...   \n",
       "\n",
       "                                               title                date  \\\n",
       "0  1 in 10 americans go hungry as trump and mccon... 2020-11-19 06:44:01   \n",
       "1  1 in 10 americans go hungry as trump and mccon... 2020-11-19 06:44:01   \n",
       "2  1 in 10 americans go hungry as trump and mccon... 2020-11-19 06:44:01   \n",
       "3  1 in 10 americans go hungry as trump and mccon... 2020-11-19 06:44:01   \n",
       "4  1 in 3 parents dont intend to have their child... 2020-09-29 10:26:31   \n",
       "5  1 in 3 parents dont intend to have their child... 2020-09-29 10:26:31   \n",
       "6  1 in 3 parents dont intend to have their child... 2020-09-29 10:26:31   \n",
       "7  1 in 3 parents dont intend to have their child... 2020-09-29 10:26:31   \n",
       "8  1 in 3 parents dont intend to have their child... 2020-09-29 10:26:31   \n",
       "9  1 in 3 parents say they wont vaccinate their c... 2020-09-28 18:32:48   \n",
       "\n",
       "             domain stance topic  is_AP  \\\n",
       "0             salon    pro    cc  False   \n",
       "1             salon    pro    cc  False   \n",
       "2             salon    pro    cc  False   \n",
       "3             salon    pro    cc  False   \n",
       "4     new_york_post   anti    cc  False   \n",
       "5     new_york_post   anti    cc  False   \n",
       "6     new_york_post   anti    cc  False   \n",
       "7     new_york_post   anti    cc  False   \n",
       "8     new_york_post   anti    cc  False   \n",
       "9  houstonchronicle    pro    cc  False   \n",
       "\n",
       "                                           reg_title leaning  \n",
       "0  1 in 10 americans go hungry as trump and mccon...    left  \n",
       "1  1 in 10 americans go hungry as trump and mccon...    left  \n",
       "2  1 in 10 americans go hungry as trump and mccon...    left  \n",
       "3  1 in 10 americans go hungry as trump and mccon...    left  \n",
       "4  1 in 3 parents dont intend to have their child...   right  \n",
       "5  1 in 3 parents dont intend to have their child...   right  \n",
       "6  1 in 3 parents dont intend to have their child...   right  \n",
       "7  1 in 3 parents dont intend to have their child...   right  \n",
       "8  1 in 3 parents dont intend to have their child...   right  \n",
       "9  1 in 3 parents say they wont vaccinate their c...    left  "
      ]
     },
     "execution_count": 41,
     "metadata": {},
     "output_type": "execute_result"
    }
   ],
   "source": [
    "merged_df.head(10)"
   ]
  },
  {
   "cell_type": "code",
   "execution_count": 45,
   "metadata": {},
   "outputs": [],
   "source": [
    "#df_v=merged_df.loc[merged_df['clean_quote'].str.lower().str.contains(\"vaccine\")]"
   ]
  },
  {
   "cell_type": "code",
   "execution_count": 46,
   "metadata": {},
   "outputs": [
    {
     "data": {
      "text/plain": [
       "(974, 16)"
      ]
     },
     "execution_count": 46,
     "metadata": {},
     "output_type": "execute_result"
    }
   ],
   "source": [
    "df_v.shape"
   ]
  },
  {
   "cell_type": "code",
   "execution_count": 49,
   "metadata": {},
   "outputs": [
    {
     "data": {
      "text/plain": [
       "left     655\n",
       "right    319\n",
       "Name: leaning, dtype: int64"
      ]
     },
     "execution_count": 49,
     "metadata": {},
     "output_type": "execute_result"
    }
   ],
   "source": [
    "merged_df[\"leaning\"].value_counts()"
   ]
  },
  {
   "cell_type": "code",
   "execution_count": 52,
   "metadata": {},
   "outputs": [],
   "source": [
    "left=merged_df.loc[merged_df['leaning'].isin(['left'])].sample(319)"
   ]
  },
  {
   "cell_type": "code",
   "execution_count": 53,
   "metadata": {},
   "outputs": [],
   "source": [
    "right=df_v.loc[df_v['leaning'].isin(['right'])].sample(319)"
   ]
  },
  {
   "cell_type": "code",
   "execution_count": 54,
   "metadata": {},
   "outputs": [],
   "source": [
    "final_df=pd.concat([left,right])"
   ]
  },
  {
   "cell_type": "code",
   "execution_count": 55,
   "metadata": {},
   "outputs": [
    {
     "data": {
      "text/plain": [
       "(638, 16)"
      ]
     },
     "execution_count": 55,
     "metadata": {},
     "output_type": "execute_result"
    }
   ],
   "source": [
    "final_df.shape"
   ]
  },
  {
   "cell_type": "code",
   "execution_count": 56,
   "metadata": {},
   "outputs": [
    {
     "data": {
      "text/plain": [
       "left     319\n",
       "right    319\n",
       "Name: leaning, dtype: int64"
      ]
     },
     "execution_count": 56,
     "metadata": {},
     "output_type": "execute_result"
    }
   ],
   "source": [
    "final_df[\"leaning\"].value_counts()"
   ]
  },
  {
   "cell_type": "code",
   "execution_count": 57,
   "metadata": {},
   "outputs": [
    {
     "data": {
      "text/plain": [
       "mlive                       87\n",
       "vox                         41\n",
       "cbs_news                    37\n",
       "new_york_post               34\n",
       "business_insider            32\n",
       "breitbart                   31\n",
       "common_dreams               31\n",
       "sgtreport                   30\n",
       "politico                    27\n",
       "orange_county_register      27\n",
       "suntimes                    25\n",
       "shoebat                     21\n",
       "houstonchronicle            19\n",
       "salon                       18\n",
       "drudgereport                16\n",
       "newsday                     14\n",
       "cnet                        13\n",
       "talking_points_memo         12\n",
       "newsmax                     11\n",
       "san_jose_mercury_news       11\n",
       "nyt                         10\n",
       "wapo                        10\n",
       "st.paul_pioneer-press       10\n",
       "nj                          10\n",
       "forbes                       9\n",
       "blaze                        5\n",
       "san_diego_union_tribune      5\n",
       "raw_story                    5\n",
       "marketwatch                  4\n",
       "mashable!                    4\n",
       "the_denver_post              4\n",
       "daily_kos                    4\n",
       "la_times                     4\n",
       "cleveland                    3\n",
       "bgr                          3\n",
       "mj                           3\n",
       "alternet                     2\n",
       "newswithviews                1\n",
       "the_boston_globe             1\n",
       "charismanews                 1\n",
       "dallas_morning_news          1\n",
       "san_antonio_express_news     1\n",
       "independentsentinel          1\n",
       "Name: domain, dtype: int64"
      ]
     },
     "execution_count": 57,
     "metadata": {},
     "output_type": "execute_result"
    }
   ],
   "source": [
    "final_df[\"domain\"].value_counts()"
   ]
  },
  {
   "cell_type": "code",
   "execution_count": 58,
   "metadata": {},
   "outputs": [],
   "source": [
    "final_df.to_csv(\"vacstance_final.csv\")"
   ]
  },
  {
   "cell_type": "code",
   "execution_count": null,
   "metadata": {},
   "outputs": [],
   "source": []
  },
  {
   "cell_type": "code",
   "execution_count": null,
   "metadata": {},
   "outputs": [],
   "source": []
  },
  {
   "cell_type": "code",
   "execution_count": null,
   "metadata": {},
   "outputs": [],
   "source": []
  },
  {
   "cell_type": "code",
   "execution_count": null,
   "metadata": {},
   "outputs": [],
   "source": []
  }
 ],
 "metadata": {
  "kernelspec": {
   "display_name": "Python 3",
   "language": "python",
   "name": "python3"
  },
  "language_info": {
   "codemirror_mode": {
    "name": "ipython",
    "version": 3
   },
   "file_extension": ".py",
   "mimetype": "text/x-python",
   "name": "python",
   "nbconvert_exporter": "python",
   "pygments_lexer": "ipython3",
   "version": "3.8.5"
  }
 },
 "nbformat": 4,
 "nbformat_minor": 4
}
